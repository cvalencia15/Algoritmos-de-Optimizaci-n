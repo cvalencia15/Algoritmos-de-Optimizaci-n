{
  "nbformat": 4,
  "nbformat_minor": 0,
  "metadata": {
    "colab": {
      "name": "Carolina Valencia - AG3.ipynb",
      "provenance": [],
      "toc_visible": true,
      "authorship_tag": "ABX9TyME1AdHPgRAghSHQFQnsCif",
      "include_colab_link": true
    },
    "kernelspec": {
      "name": "python3",
      "display_name": "Python 3"
    }
  },
  "cells": [
    {
      "cell_type": "markdown",
      "metadata": {
        "id": "view-in-github",
        "colab_type": "text"
      },
      "source": [
        "<a href=\"https://colab.research.google.com/github/cvalencia15/Algoritmos-de-Optimizacion/blob/main/Carolina_Valencia_AG3.ipynb\" target=\"_parent\"><img src=\"https://colab.research.google.com/assets/colab-badge.svg\" alt=\"Open In Colab\"/></a>"
      ]
    },
    {
      "cell_type": "markdown",
      "metadata": {
        "id": "A12S07YmEZwZ"
      },
      "source": [
        "### **ALGORITMOS DE OPTIMIZACIÓN - ACTIVIDAD GUIADA 3 (AG3)**\r\n",
        "\r\n",
        "Carolina Valencia López\r\n",
        "\r\n",
        "URL: https://colab.research.google.com/drive/1adbmUcHs6jV9I-MdIQ88ZUC9pvlFKsZr?usp=sharing\r\n",
        "\r\n",
        "GitHub: "
      ]
    },
    {
      "cell_type": "markdown",
      "metadata": {
        "id": "DzL1y71_EaqP"
      },
      "source": [
        "Problema del agente viajero con TSPLIB"
      ]
    },
    {
      "cell_type": "code",
      "metadata": {
        "colab": {
          "base_uri": "https://localhost:8080/"
        },
        "id": "wDKL_h0IEb3r",
        "outputId": "8c24c2a0-9764-4b32-a924-ee2f914ea611"
      },
      "source": [
        "!pip install requests\r\n",
        "!pip install tsplib95\r\n",
        "\r\n",
        "import tsplib95\r\n",
        "import random\r\n",
        "from math import e\r\n",
        "import copy\r\n",
        "import urllib.request\r\n",
        "\r\n",
        "file=\"swiss42.tsp\"\r\n",
        "urllib.request.urlretrieve(\"http://elib.zib.de/pub/mp-testdata/tsp/tsplib/tsp/swiss42.tsp\",file)\r\n",
        "\r\n",
        "#se carga el problema\r\n",
        "problem=tsplib95.load_problem(file)\r\n",
        "#se definen los nodos\r\n",
        "nodos=list(problem.get_nodes())\r\n",
        "#se definen las aristas\r\n",
        "aristas=list(problem.get_edges())\r\n",
        "#dist entre nodos\r\n",
        "problem.get_weight(0,1)\r\n",
        "\r\n",
        "\r\n",
        "#probamos con otro problema, como el de bridge tournament (he jugado mucho al bridge, y me interesa)\r\n",
        "#torneo de bridge con \"estrategia de planificacion\" round robin\r\n",
        "#dimension=180 , \r\n",
        "file2=\"brg180.tsp\"\r\n",
        "urllib.request.urlretrieve(\"http://elib.zib.de/pub/mp-testdata/tsp/tsplib/tsp/brg180.tsp\",file2)\r\n",
        "\r\n",
        "#se carga el problema\r\n",
        "problem2=tsplib95.load_problem(file2)\r\n",
        "#se definen los nodos\r\n",
        "nodos2=list(problem.get_nodes())\r\n",
        "#se definen las aristas\r\n",
        "aristas2=list(problem.get_edges())\r\n",
        "#dist entre nodos\r\n",
        "problem2.get_weight(0,2)\r\n",
        "#la mejor solucion alcanzada es 1950\r\n",
        "\r\n",
        "\r\n",
        "#probamos con otro problema que contiene ciclo hamiltoniano\r\n",
        "#en http://comopt.ifi.uni-heidelberg.de/software/TSPLIB95/tsp95.pdf se menciona que los problemas dotados de extension .opt.tour contienen ciclo hamiltoniano\r\n",
        "\r\n",
        "file3=\"kroD100.opt.tour\"\r\n",
        "urllib.request.urlretrieve(\"http://elib.zib.de/pub/mp-testdata/tsp/tsplib/tsp/kroD100.opt.tour\",file3)\r\n",
        "#se carga el problema\r\n",
        "problem3=tsplib95.load_problem(file3)\r\n",
        "#se definen los nodos\r\n",
        "nodos3=list(problem.get_nodes())\r\n",
        "#se definen las aristas\r\n",
        "aristas3=list(problem.get_edges())\r\n",
        "#dist entre nodos\r\n",
        "problem2.get_weight(0,1)"
      ],
      "execution_count": 14,
      "outputs": [
        {
          "output_type": "stream",
          "text": [
            "Requirement already satisfied: requests in /usr/local/lib/python3.6/dist-packages (2.23.0)\n",
            "Requirement already satisfied: chardet<4,>=3.0.2 in /usr/local/lib/python3.6/dist-packages (from requests) (3.0.4)\n",
            "Requirement already satisfied: certifi>=2017.4.17 in /usr/local/lib/python3.6/dist-packages (from requests) (2020.12.5)\n",
            "Requirement already satisfied: idna<3,>=2.5 in /usr/local/lib/python3.6/dist-packages (from requests) (2.10)\n",
            "Requirement already satisfied: urllib3!=1.25.0,!=1.25.1,<1.26,>=1.21.1 in /usr/local/lib/python3.6/dist-packages (from requests) (1.24.3)\n",
            "Requirement already satisfied: tsplib95 in /usr/local/lib/python3.6/dist-packages (0.7.1)\n",
            "Requirement already satisfied: Click>=6.0 in /usr/local/lib/python3.6/dist-packages (from tsplib95) (7.1.2)\n",
            "Requirement already satisfied: tabulate~=0.8.7 in /usr/local/lib/python3.6/dist-packages (from tsplib95) (0.8.7)\n",
            "Requirement already satisfied: Deprecated~=1.2.9 in /usr/local/lib/python3.6/dist-packages (from tsplib95) (1.2.11)\n",
            "Requirement already satisfied: networkx~=2.1 in /usr/local/lib/python3.6/dist-packages (from tsplib95) (2.5)\n",
            "Requirement already satisfied: wrapt<2,>=1.10 in /usr/local/lib/python3.6/dist-packages (from Deprecated~=1.2.9->tsplib95) (1.12.1)\n",
            "Requirement already satisfied: decorator>=4.3.0 in /usr/local/lib/python3.6/dist-packages (from networkx~=2.1->tsplib95) (4.4.2)\n"
          ],
          "name": "stdout"
        },
        {
          "output_type": "stream",
          "text": [
            "/usr/local/lib/python3.6/dist-packages/ipykernel_launcher.py:46: DeprecationWarning: Call to deprecated function (or staticmethod) load_problem. (Will be removed in newer versions. Use `tsplib95.load` instead.) -- Deprecated since version 7.0.0.\n"
          ],
          "name": "stderr"
        },
        {
          "output_type": "execute_result",
          "data": {
            "text/plain": [
              "20"
            ]
          },
          "metadata": {
            "tags": []
          },
          "execution_count": 14
        }
      ]
    },
    {
      "cell_type": "markdown",
      "metadata": {
        "id": "e4DhW9DuOjGa"
      },
      "source": [
        "Resolucion por busqueda aleatoria"
      ]
    },
    {
      "cell_type": "code",
      "metadata": {
        "colab": {
          "base_uri": "https://localhost:8080/"
        },
        "id": "180tTwDaOjc1",
        "outputId": "ca7c9448-ee92-446a-d957-267f042b2254"
      },
      "source": [
        "#algoritmo de busqueda aleatoria en el que se van generando\r\n",
        "#soluciones aleatorias en cada iterac, retornando la mejor\r\n",
        "\r\n",
        "def busqueda_aleatoria(problem,n):\r\n",
        "  nodos=list(problem.get_nodes())\r\n",
        "\r\n",
        "  mejor_sol=[]\r\n",
        "  mejor_dist=10e100\r\n",
        "\r\n",
        "  for i in range(n):\r\n",
        "    sol=crear_solucion(nodos)\r\n",
        "    dist=distancia_total(sol,problem)\r\n",
        "\r\n",
        "    if (dist<mejor_dist):\r\n",
        "      mejor_sol=sol\r\n",
        "      mejor_dist=dist\r\n",
        "\r\n",
        "  return mejor_sol\r\n",
        "\r\n",
        "\r\n",
        "#funcion para generar solucion aleatoria empezando por nodo 0\r\n",
        "def crear_solucion(nodos):\r\n",
        "  sol=[nodos[0]]\r\n",
        "  for n in nodos[1:]:\r\n",
        "    sol=sol+[random.choice(list(set(nodos)-set({nodos[0]}) - set(sol)))]\r\n",
        "  return sol\r\n",
        "\r\n",
        "\r\n",
        "#funcion que retorna la dist entre dos nodos\r\n",
        "def distancia(a,b,problem):\r\n",
        "  return problem.get_weight(a,b)\r\n",
        "\r\n",
        "\r\n",
        "#funcion que retorna la dist total de una trayectoria o soluc\r\n",
        "def distancia_total(sol,problem):\r\n",
        "  dtotal=0\r\n",
        "  for i in range(len(sol)-1):\r\n",
        "    dtotal+=distancia(sol[i], sol[i+1],problem)\r\n",
        "  return dtotal+distancia(sol[len(sol)-1], sol[0], problem)\r\n",
        "\r\n",
        "#invocamos a la funcion y test\r\n",
        "busqueda_aleatoria(problem,5000)\r\n",
        "\r\n",
        "\r\n",
        "    "
      ],
      "execution_count": 20,
      "outputs": [
        {
          "output_type": "execute_result",
          "data": {
            "text/plain": [
              "[0,\n",
              " 35,\n",
              " 17,\n",
              " 13,\n",
              " 28,\n",
              " 30,\n",
              " 33,\n",
              " 29,\n",
              " 11,\n",
              " 2,\n",
              " 19,\n",
              " 32,\n",
              " 31,\n",
              " 7,\n",
              " 5,\n",
              " 12,\n",
              " 22,\n",
              " 40,\n",
              " 21,\n",
              " 8,\n",
              " 39,\n",
              " 4,\n",
              " 37,\n",
              " 15,\n",
              " 6,\n",
              " 25,\n",
              " 3,\n",
              " 27,\n",
              " 38,\n",
              " 24,\n",
              " 23,\n",
              " 34,\n",
              " 20,\n",
              " 26,\n",
              " 41,\n",
              " 9,\n",
              " 16,\n",
              " 14,\n",
              " 1,\n",
              " 10,\n",
              " 18,\n",
              " 36]"
            ]
          },
          "metadata": {
            "tags": []
          },
          "execution_count": 20
        }
      ]
    },
    {
      "cell_type": "markdown",
      "metadata": {
        "id": "AfeYhScFO5dP"
      },
      "source": [
        "Resolución por busqueda local"
      ]
    },
    {
      "cell_type": "code",
      "metadata": {
        "colab": {
          "base_uri": "https://localhost:8080/"
        },
        "id": "UYHi6FLrO52w",
        "outputId": "5d1de163-a882-40e2-9bc5-47c222f07f50"
      },
      "source": [
        "'''En primer lugar, voy a ofrecer una posible implementacion a modo de \r\n",
        "pseudocodigo del algoritmo Hill Climbing (o de escalada, en español), \r\n",
        "que es un metodo de optimizacion encuadrado dentro de \r\n",
        "los algoritmos de busqueda local.\r\n",
        "\r\n",
        "Su funcionamiento es sencillo: se empieza buscando desde un punto.\r\n",
        "Si el nuevo punto ofrece una mejor solucion: punto_nuevo=punto_actual;\r\n",
        "en caso contrario, se elige otro punto neighbour y se analiza.\r\n",
        "El fin del algoritmo viene dado bien porque el numero de iteraciones\r\n",
        "ya se ha agotado, o porque no se ha encontrado un punto que mejore\r\n",
        "al actual.\r\n",
        "\r\n",
        "Es posible que no haya solucion por la aparicion de un maximo local, o\r\n",
        "simplemente porque los neighbours tienen el mismo valor.\r\n",
        "\r\n",
        "Lo voy a presentar como un problema TSP o del viajero,\r\n",
        "que hemos visto anteriormente\r\n",
        "\r\n",
        "def escalada(problem):\r\n",
        "  #empezamos seleccionando una solucion aleatoria\r\n",
        "  sol =soluc_aux_aleat(problem)\r\n",
        "  trayectoria=trayect(problem,sol)\r\n",
        "  vecinos=get_vecinos(problem)  #se toman los vecinos, probabl. a traves de otra funcion, como knn\r\n",
        "  vecino_mas_prometedor=get_vecino_mas_prometedor(problem,vecinos)  #se toman los vecinos mas prometedores, ya que mejoran la sol actual\r\n",
        "  trayect_vecino_mas_prometedor=get_vecino_mas_prometedor(problem,vecinos)\r\n",
        "\r\n",
        "  mientras que la trayect_vecino_mas_prometedor < trayectoria:  #se va comparando la situac actual y la del vecino, para ver si se actualiza\r\n",
        "    sol=vecino_mas_prometedor \r\n",
        "    trayectoria=trayect_vecino_mas_prometedor\r\n",
        "    vecinos=get_vecinos(problem)\r\n",
        "    vecino_mas_prometedor=get_vecino_mas_prometedor(problem,vecinos)\r\n",
        "    trayect_vecino_mas_prometedor=get_vecino_mas_prometedor(problem,vecinos)\r\n",
        "\r\n",
        "  retornar sol #se retorna la solucion\r\n",
        "\r\n",
        "'''\r\n",
        "\r\n",
        "#Ahora, el algoritmo de BL visto en clase\r\n",
        "\r\n",
        "def busqueda_local(problem):\r\n",
        "  mejor_sol=[]\r\n",
        "\r\n",
        "  #genera solucion aleatoria\r\n",
        "  sol_referencia=crear_solucion(nodos)\r\n",
        "  mejor_dist=distancia_total(sol_referencia,problem)\r\n",
        "\r\n",
        "  iteracion=0\r\n",
        "  while(1):\r\n",
        "    iteracion+=1 #incr contador\r\n",
        "\r\n",
        "    #obtener vecinos\r\n",
        "    vecina=genera_vecina(sol_referencia)\r\n",
        "    dist_vecina=distancia_total(vecina,problem)\r\n",
        "\r\n",
        "    #se ha llegado a min local - si no mejoria, fin\r\n",
        "    if (dist_vecina<mejor_dist):\r\n",
        "      mejor_sol=copy.deepcopy(vecina)\r\n",
        "      mejor_dist=dist_vecina\r\n",
        "    else:\r\n",
        "      print(\"En la iteracion\",iteracion,\"la mejor solucion es\",mejor_sol)\r\n",
        "      return mejor_sol\r\n",
        "\r\n",
        "\r\n",
        "#funcion generadora de soluciones vecinas\r\n",
        "#con n nodos -> (n-1)*(n-1)/2 sols\r\n",
        "def genera_vecina(sol):\r\n",
        "  mejor_sol=[]\r\n",
        "  mejor_dist=10e100\r\n",
        "  #recorrido del array de sols (nodo) en bucle doble para evaluarlos 2 a 2\r\n",
        "  for i in range(1,len(sol)-1):\r\n",
        "    for j in range(i+1,len(sol)):\r\n",
        "      vecina=sol[:i]+[sol[j]] + sol[i+1:j] + [sol[i]] + sol[j+1:]\r\n",
        "      \r\n",
        "      #evaluacion de la solucion\r\n",
        "      dist_vecina=distancia_total(vecina,problem)\r\n",
        "\r\n",
        "      #se almacena en caso de ser mas optima\r\n",
        "      if (dist_vecina<=mejor_dist):\r\n",
        "        mejor_dist=dist_vecina\r\n",
        "        mejor_sol=vecina\r\n",
        "    return mejor_sol\r\n",
        "\r\n",
        "#invocamos a la funcion y test\r\n",
        "busqueda_local(problem)\r\n",
        "\r\n"
      ],
      "execution_count": 22,
      "outputs": [
        {
          "output_type": "stream",
          "text": [
            "En la iteracion 2 la mejor solucion es [0, 24, 21, 38, 33, 36, 8, 40, 11, 4, 34, 30, 32, 18, 9, 2, 3, 22, 5, 12, 1, 23, 13, 41, 37, 35, 29, 16, 39, 25, 19, 27, 6, 17, 15, 31, 14, 7, 20, 26, 10, 28]\n"
          ],
          "name": "stdout"
        },
        {
          "output_type": "execute_result",
          "data": {
            "text/plain": [
              "[0,\n",
              " 24,\n",
              " 21,\n",
              " 38,\n",
              " 33,\n",
              " 36,\n",
              " 8,\n",
              " 40,\n",
              " 11,\n",
              " 4,\n",
              " 34,\n",
              " 30,\n",
              " 32,\n",
              " 18,\n",
              " 9,\n",
              " 2,\n",
              " 3,\n",
              " 22,\n",
              " 5,\n",
              " 12,\n",
              " 1,\n",
              " 23,\n",
              " 13,\n",
              " 41,\n",
              " 37,\n",
              " 35,\n",
              " 29,\n",
              " 16,\n",
              " 39,\n",
              " 25,\n",
              " 19,\n",
              " 27,\n",
              " 6,\n",
              " 17,\n",
              " 15,\n",
              " 31,\n",
              " 14,\n",
              " 7,\n",
              " 20,\n",
              " 26,\n",
              " 10,\n",
              " 28]"
            ]
          },
          "metadata": {
            "tags": []
          },
          "execution_count": 22
        }
      ]
    },
    {
      "cell_type": "markdown",
      "metadata": {
        "id": "PN5r5EGQO88L"
      },
      "source": [
        "Resolución por recocido simulado"
      ]
    },
    {
      "cell_type": "code",
      "metadata": {
        "colab": {
          "base_uri": "https://localhost:8080/"
        },
        "id": "Yp31k_a3O_MN",
        "outputId": "29bbd9e0-5352-4e00-d93b-1e20b792fa24"
      },
      "source": [
        "#Funcion de recocido simulado (para problemas de optimiz global, no local)\r\n",
        "#Es una func de probabilidad p(n) que depende de T y de la dif de costes\r\n",
        "import math\r\n",
        "\r\n",
        "def recocido_simulado(problem,t):\r\n",
        "  sol_ref=crear_solucion(nodos)\r\n",
        "  dist_ref=distancia_total(sol_ref,problem)\r\n",
        "\r\n",
        "  mejor_sol=[]\r\n",
        "  mejor_dist=10e100\r\n",
        "  n=0\r\n",
        "\r\n",
        "  while t>0.0001:\r\n",
        "    n+=1\r\n",
        "    #generacion de sol vecina\r\n",
        "    vecina=genera_vecina_aleat(sol_ref)\r\n",
        "\r\n",
        "    #calcula el valor\r\n",
        "    dist_vecina=distancia_total(vecina,problem)\r\n",
        "\r\n",
        "    #se almacena la sol\r\n",
        "    if (dist_vecina<mejor_dist):\r\n",
        "      mejor_sol=vecina\r\n",
        "      mejor_dist=dist_vecina\r\n",
        "\r\n",
        "    #si el nuevo vecino es mejor->update; si no, se evalua segun t y delta(dist_ref-dist_vecino)\r\n",
        "    if (dist_vecina<dist_ref or probabilidad(t,abs(dist_ref-dist_vecina))):\r\n",
        "      sol_ref=copy.deepcopy(vecina)\r\n",
        "      dist_ref=dist_vecina\r\n",
        "\r\n",
        "    #decrementar temperatura\r\n",
        "    t=bajar_temperatura(t)\r\n",
        "\r\n",
        "  print(\"La mejor solucion es\", mejor_sol,\"con un distancia total de\", mejor_dist)\r\n",
        "  return mejor_sol\r\n",
        "\r\n",
        "\r\n",
        "#funcion de probab para evaluar si se debe cambiar a otra sol peor que la de ref\r\n",
        "def probabilidad(t,d):\r\n",
        "  if (random.random()<=math.exp(-1*d/t)):\r\n",
        "    return True\r\n",
        "  else:\r\n",
        "    return False\r\n",
        "\r\n",
        "#funcion para bajar la temperatura\r\n",
        "def bajar_temperatura(t):\r\n",
        "  return t*0.999\r\n",
        "\r\n",
        "#funcion que genera una solucion vecina 2opt aleat\r\n",
        "def genera_vecina_aleat(sol):\r\n",
        "  #se seleccionan 2 nodos aleat\r\n",
        "  i,j=sorted(random.sample(range(1,len(sol)),2))\r\n",
        "\r\n",
        "  #retorna una sol nueva pero intercambiando los nodos selecc aleat\r\n",
        "  return sol[:i]+[sol[j]]+sol[i+1:j]+[sol[i]]+sol[j+1:]\r\n",
        "\r\n",
        "\r\n",
        "#invocacion a la funcion y test\r\n",
        "recocido_simulado(problem,10000000)"
      ],
      "execution_count": 29,
      "outputs": [
        {
          "output_type": "stream",
          "text": [
            "La mejor solucion es [0, 1, 6, 5, 26, 18, 13, 19, 14, 16, 15, 37, 36, 35, 31, 17, 7, 32, 28, 2, 27, 3, 4, 12, 11, 25, 10, 8, 9, 39, 21, 24, 40, 23, 41, 22, 38, 29, 30, 34, 33, 20] con un distancia total de 1530\n"
          ],
          "name": "stdout"
        },
        {
          "output_type": "execute_result",
          "data": {
            "text/plain": [
              "[0,\n",
              " 1,\n",
              " 6,\n",
              " 5,\n",
              " 26,\n",
              " 18,\n",
              " 13,\n",
              " 19,\n",
              " 14,\n",
              " 16,\n",
              " 15,\n",
              " 37,\n",
              " 36,\n",
              " 35,\n",
              " 31,\n",
              " 17,\n",
              " 7,\n",
              " 32,\n",
              " 28,\n",
              " 2,\n",
              " 27,\n",
              " 3,\n",
              " 4,\n",
              " 12,\n",
              " 11,\n",
              " 25,\n",
              " 10,\n",
              " 8,\n",
              " 9,\n",
              " 39,\n",
              " 21,\n",
              " 24,\n",
              " 40,\n",
              " 23,\n",
              " 41,\n",
              " 22,\n",
              " 38,\n",
              " 29,\n",
              " 30,\n",
              " 34,\n",
              " 33,\n",
              " 20]"
            ]
          },
          "metadata": {
            "tags": []
          },
          "execution_count": 29
        }
      ]
    },
    {
      "cell_type": "markdown",
      "metadata": {
        "id": "UnCaAeFhhiRG"
      },
      "source": [
        "TAREAS OPCIONALES\r\n",
        "(en las anteriores AG las he anadido a modo de comentario, pero aquí las pondre en esta celda)\r\n",
        "\r\n",
        "\r\n",
        "\r\n",
        "*   **Búsqueda local con Entornos variables**\r\n",
        "Se puede mejorar con la aplicación de una Búsqueda Descendente Basada en Entornos Variables. En este metodo, el operador de vecindad cambia de entorno, ampliando el espacio de busqueda para que no se caiga en mínimos locales (en el caso de que se proceda a un cambio de estructura de entornos al caer en minimos).\r\n",
        "\r\n",
        "\r\n",
        "*   **Recocido simulado**\r\n",
        "El recocido simulado puede mejorarse al no utilizar una técnica aleatoria de generación de vecindario. Sería una buena opción implementar una solucion de eleccion de vecinos mas compleja y que no caiga en la aleatoriedad para tambien, por ejemplo, evitar caer en minimos locales y que la busqueda en el espacio sea mas amplia.\r\n",
        "La eficiencia del algoritmo tambien viene determinada por la estructura de colocacion de los vecinos, por lo que una tecnica mas optima que la meramente aleatoria tambien podria ayudar a mejorar la eficiencia.\r\n",
        "Esto podria hacerse con un algoritmo/sistema basado en cadenas de Markov\r\n",
        "\r\n"
      ]
    }
  ]
}