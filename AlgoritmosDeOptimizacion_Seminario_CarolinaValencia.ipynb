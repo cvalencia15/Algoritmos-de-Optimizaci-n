{
  "nbformat": 4,
  "nbformat_minor": 0,
  "metadata": {
    "colab": {
      "name": "AlgoritmosDeOptimizacion_Seminario_CarolinaValencia.ipynb",
      "provenance": [],
      "authorship_tag": "ABX9TyO6ilD+TVzlFUbn/3Yfa3xO",
      "include_colab_link": true
    },
    "kernelspec": {
      "name": "python3",
      "display_name": "Python 3"
    }
  },
  "cells": [
    {
      "cell_type": "markdown",
      "metadata": {
        "id": "view-in-github",
        "colab_type": "text"
      },
      "source": [
        "<a href=\"https://colab.research.google.com/github/cvalencia15/Algoritmos-de-Optimizacion/blob/main/AlgoritmosDeOptimizacion_Seminario_CarolinaValencia.ipynb\" target=\"_parent\"><img src=\"https://colab.research.google.com/assets/colab-badge.svg\" alt=\"Open In Colab\"/></a>"
      ]
    },
    {
      "cell_type": "markdown",
      "metadata": {
        "id": "vEMzUAsqHmWO"
      },
      "source": [
        "## **ALGORITMOS DE OPTIMIZACIÓN --- TRABAJO DEL SEMINARIO**\r\n",
        "\r\n",
        "Carolina Valencia López\r\n",
        "\r\n",
        "URL: https://colab.research.google.com/drive/1BEVUrHf1c-HOzWWAQWPUN9J9m5wGSJ6s?usp=sharing\r\n",
        "GitHub:"
      ]
    },
    {
      "cell_type": "markdown",
      "metadata": {
        "id": "jOcyVlz8Hy-G"
      },
      "source": [
        "**Para la realización del trabajo del seminario, he elegido el problema nº1, cuyo enunciado es el que sigue:**\r\n",
        "\r\n",
        "Se precisa coordinar el doblaje de una película. Los actores del doblaje deben coincidir en las\r\n",
        "tomas en las que sus personajes aparecen juntos en las diferentes tomas. Los actores de\r\n",
        "doblaje cobran todos la misma cantidad por cada día que deben desplazarse hasta el estudio\r\n",
        "de grabación independientemente del número de tomas que se graben. No es posible grabar\r\n",
        "más de 6 tomas por día. El objetivo es planificar las sesiones por día de manera que se gasto\r\n",
        "por los servicios de los actores de doblaje sea el menor posible. Los datos son:\r\n",
        "\r\n",
        "\r\n",
        "\r\n",
        "*   Número de actores: 10\r\n",
        "*   Número de tomas: 30\r\n",
        "*   Actores/tomas: https://bit.ly/36D8IuK\r\n",
        "(1 si participa en la toma, 0 en caso contrario)\r\n",
        "\r\n",
        "\r\n",
        "A continuación, en cada celda se responderá a las preguntas propuestas en relativas al problema.\r\n",
        "\r\n",
        "\r\n"
      ]
    },
    {
      "cell_type": "markdown",
      "metadata": {
        "id": "uU2iaOEgIoaZ"
      },
      "source": [
        "**1. ¿Cuántas posibilidades hay sin tener en cuenta las restricciones?**\r\n",
        "\r\n",
        "Si no se tienen en cuenta las restricciones del problema (es decir, que no se graben más de 6 tomas por día y, en cierto modo, la coincidencia de los actores en las tomas), sería entonces posible grabar en un número de días menor ya que, a priori, podría concentrarse la grabación de las tomas incluso en un 1 día.\r\n",
        "\r\n",
        "Dada la relajación de restricciones, y teniendo en cuenta que hay 30 tomas y 10 actores, habría 30!=2.6525285981219e32 combinaciones en lo que respecta a una sesión, aunque dentro de estas combinaciones sería la más óptima aquella que minimizase el gasto con respecto al desplazamiento de los actores al estudio de grabación."
      ]
    },
    {
      "cell_type": "markdown",
      "metadata": {
        "id": "A-fOFwySMCbo"
      },
      "source": [
        "**2. ¿Cuántas posibilidades hay teniendo en cuenta todas las restricciones?**\r\n",
        "\r\n",
        "Si tenemos en cuenta todas las restricciones, estaremos ante un problema de combinatoria en el que en el número de agrupaciones resultantes no importa el orden. Por tanto, para calcular el nº de sesiones necesarias para coordinar el doblaje de la película, tomando r=tomas (teniendo en cuenta las sesiones/día) y n=tomas_totales (inicialmente 30, e iría decrementando este número a medida que pasase cada día, en el que el número máximo de tomas debe ser <=6). De esta forma:\r\n",
        "\r\n",
        "\\begin{equation}\r\n",
        " C_(n,r)=n!/(r!·(n-r)!)\r\n",
        " \\end{equation}\r\n",
        "\r\n",
        " \r\n",
        " De este modo, para calcular todas las posibilidades resultantes al aplicar las restricciones, habría que calcular el producto de las combinaciones posibles aplicando la fórmula anterior, donde la n inicial sería 30 (el total de tomas), y teniendo en cuenta que la n decrementaría en 6 (tomas máximas por día) hasta llegar a 6. Esta operación resultaria 1.9x10^15 -> (6!/6!*6! * 12!/(12!-6!)*6! * 18!/(18-6!)*6! * 24!/(24-6)!*6! * 30!/(30-6)!*6! )\r\n",
        "\r\n",
        " \r\n",
        "\r\n"
      ]
    },
    {
      "cell_type": "markdown",
      "metadata": {
        "id": "_FNTCUA4Ivei"
      },
      "source": [
        "**3. ¿Cuál es la estructura de datos que mejor se adapta al problema?**\r\n",
        "\r\n",
        "\r\n",
        "\r\n"
      ]
    },
    {
      "cell_type": "markdown",
      "metadata": {
        "id": "ihUxYVUxJhO4"
      },
      "source": [
        "\r\n",
        "\r\n",
        "*   En un primer momento, y de manera ideal, había pensado en la representación de las sesiones y las tomas en una matriz. Esto es, en una de las dimensiones aparecen plasmadas las sesiones, y en la otra las tomas, asociada cada una a un actor de doblaje x. Sin embargo, la carga computacional que puede conllevar explorar la matriz y, en consecuencia, las operaciones de inserción, borrado y modificación, pueden ser muy costosas, por lo que podría descartarse esta implementación por motivos de optimización.\r\n",
        "\r\n",
        "\r\n",
        "*   Otra representación interesante sería la creación de un array de tuplas. Cada tupla tendría 6 elementos (que se corresponderían con las tomas posibles cada día), y en estos elementos habría un 0 o un 1, dependiendo de si la toma tendría lugar o no. Aunque me vino a la cabeza en un primer momento y tan sólo comento esta posibilidad por mera curiosidad, no sería posible debido a un motivo principal: las tuplas son tipos de datos inmutables, por lo que no podrían verse modificadas. Otro motivo de peso también es que no representarían correctamente el problema.\r\n",
        "\r\n",
        "\r\n",
        "\r\n",
        "*   Descartando lo anterior, es posible simplemente implementar una lista de tomas en la que queden inscritas las mismas. Dado que hay 30 tomas, y que en cada sesión el máximo de tomas es 6 (tanto 30 como 6 son múltiplos de 6), es posible ir viendo si hay finalizado una sesión al ir dividiendo entre 6 o, en su defecto, ir explorando en la lista el número de tomas que hay. Es decir, si vemos que la lista hay 6 tomas realizadas (posiblemente etiquetadas con un 1), intuiremos que ya ha tenido lugar una sesión. Si, por el contrario, vemos que hay 8, intuiremos que hay 1 sesión realizada y casi la mitad de la siguiente.\r\n",
        "\r\n"
      ]
    },
    {
      "cell_type": "markdown",
      "metadata": {
        "id": "0yp7tXZbI6q8"
      },
      "source": [
        "**4. ¿Cuál es la función objetivo?**\r\n",
        "\r\n",
        "El objetivo es minimizar el coste de los servicios ofrecidos por los actores en la grabación, por lo tanto buscamos:\r\n",
        "\r\n",
        "Minimizar z= 22x_1+14x_2+13x_3+15x_4+11x_5+8x_6+3x_7+4x_8+2x_9+2x_10\r\n",
        "\r\n",
        "A continuación se muestra el pseudocódigo de la función objetivo."
      ]
    },
    {
      "cell_type": "code",
      "metadata": {
        "id": "tl9iY2rDg5YK"
      },
      "source": [
        "'''\r\n",
        "\r\n",
        "def funcion_objetivo(tomas_actores):  #se pasa por parametro el array de las tomas y actores que las realizan\r\n",
        "\r\n",
        "  max_tomas=6   #se establece el maximo de tomas\r\n",
        "  tomas=(1,5,3,6)   #las tomas a explorar con las que se cuenta y que sirven para explorar la solución final\r\n",
        "  gasto_final\r\n",
        "  contador_tomas\r\n",
        "\r\n",
        "  para una toma en tomas:\r\n",
        "    contador_tomas=contador_tomas+1  #hasta llegar a 30 en nuestro caso\r\n",
        "    array_tomas= nueva lista que tiene en cuenta la toma del for y el array de las tomas y actores\r\n",
        "    gasto=lo calculado en array_tomas\r\n",
        "\r\n",
        "    si la sesion == 6 tomas:\r\n",
        "      contador_tomas=0\r\n",
        "      suma de los gastos finales en gasto_final\r\n",
        "\r\n",
        "    else if(sesion<6 tomas and sesion>0 tomas and contador_tomas!=0):   #si no se han hecho 6 tomas, pero por algun casual se ha dado por acabada\r\n",
        "      suma de los gastos hasta ese momento\r\n",
        "\r\n",
        "  return gasto_final\r\n",
        "\r\n",
        "'''"
      ],
      "execution_count": null,
      "outputs": []
    },
    {
      "cell_type": "markdown",
      "metadata": {
        "id": "e-aGuCKXI-LQ"
      },
      "source": [
        "**5. ¿Es un problema de maximización o minimización?**\r\n",
        "\r\n",
        "Estamos ante un problema de minimización, ya que el objetivo es que el gasto sea lo menor posible (minimizar el coste)."
      ]
    },
    {
      "cell_type": "markdown",
      "metadata": {
        "id": "aeTCi0IUJD6u"
      },
      "source": [
        "**6. Diseño de un algoritmo para resolver el problema por fuerza bruta**"
      ]
    },
    {
      "cell_type": "code",
      "metadata": {
        "id": "2rrPa-CYJI4Q"
      },
      "source": [
        "#codigo para resolver el problema por fuerza bruta\r\n",
        "\r\n",
        "def fuerza_bruta(tomas_actores):\r\n",
        "\r\n",
        "    dim_tomas=len(tomas_actores)\r\n",
        "    tomas=(4,3,2)\r\n",
        "    fin_sols=[]\r\n",
        "    sols=0\r\n",
        "    optima=0\r\n",
        "    aux_optima=0\r\n",
        "    valor_optima=0\r\n",
        "\r\n",
        "    while (sols<dim_tomas):  #se van generando las posibilidades (un poco pesado computacionalmente por ser while y for anidados)\r\n",
        "      for n in dim_tomas:\r\n",
        "        sols=n+tomas\r\n",
        "        fin_sols.append(sols)\r\n",
        "\r\n",
        "    for i in fin_sols:      #se exploran las posibles soluciones\r\n",
        "      obj=funcion_objetivo(tomas_actores)\r\n",
        "      if(obj<optima):\r\n",
        "        optima=obj\r\n",
        "        valor_optima=i\r\n",
        "        aux_optima=aux_optima+1\r\n",
        "  \r\n",
        "  return optima  #se retorna la solucion optima\r\n"
      ],
      "execution_count": null,
      "outputs": []
    },
    {
      "cell_type": "markdown",
      "metadata": {
        "id": "wCuhgXLHJJKC"
      },
      "source": [
        "**7. Cálculo de la complejidad del algoritmo por fuerza bruta**\r\n",
        "\r\n",
        "La complejidad del algoritmo por fuerza bruta es de orden factorial; esto es, O(n!). Se exploran todas las posibilidades, sin importar la repetición ni orden."
      ]
    },
    {
      "cell_type": "markdown",
      "metadata": {
        "id": "Ye0gp4rrJQjE"
      },
      "source": [
        "**8. Diseño de un algoritmo que mejora la complejidad del algoritmo por fuerza bruta. ¿Por qué mejora la complejidad?**"
      ]
    },
    {
      "cell_type": "code",
      "metadata": {
        "id": "pqcCxsuNJYTy"
      },
      "source": [
        "'''\r\n",
        "Diseño del pseudocodigo de un algoritmo de ramificacion y poda \r\n",
        "que mejora la complejidad factorial del algoritmo por fuerza bruta\r\n",
        "\r\n",
        "#creamos la estructura de nodo para ir iterando\r\n",
        "class Node:\r\n",
        "    def __init__(self, value):\r\n",
        "        self.coste = None\r\n",
        "        self.profundidad=None\r\n",
        "\r\n",
        "    def getCoste(self):\r\n",
        "        return self.coste\r\n",
        "\r\n",
        "    def getProfundidad():\r\n",
        "        return self.profundidad\r\n",
        "\r\n",
        "#funcion de ramificacion y poda per se\r\n",
        "def ramific_poda(tomas_actores):\r\n",
        "  inicializaciamos un nodo -> Node(valor=0,profundidad=0)\r\n",
        "  while haya nodos para iterar:\r\n",
        "    contador++\r\n",
        "\r\n",
        "    si sigue habiendo nodos de max_profundidad and la profundidad min coincide con la max:\r\n",
        "      -se estima el nodo mas prometedor al que iterar -> coste y estimacion\r\n",
        "    \r\n",
        "    se selecciona el nodo mas cercano para iterar a el (FIFO)\r\n",
        "    se itera recursivamente volviendo a lo anterior\r\n",
        "    si el nodo no tiene descendientes:\r\n",
        "      se selecciona el nodo como mejor solucion -> (valor,profundidad)\r\n",
        "\r\n",
        "  return solucion_optima\r\n",
        "\r\n",
        "\r\n",
        "\r\n"
      ],
      "execution_count": null,
      "outputs": []
    },
    {
      "cell_type": "markdown",
      "metadata": {
        "id": "3hm7XkJaJYj3"
      },
      "source": [
        "**9. Cálculo de la complejidad del algoritmo anterior**\r\n",
        "\r\n",
        "En el peor de los casos, la complejidad podría ser factorial y atender a O(n!), aunque también podría ser exponencial O(n^2) si se encontrase solución antes de tener que explorar todas las posibilidades. "
      ]
    },
    {
      "cell_type": "markdown",
      "metadata": {
        "id": "XqdcWv9rJb5O"
      },
      "source": [
        "**10. Diseño de un juego de datos para el algoritmo**"
      ]
    },
    {
      "cell_type": "code",
      "metadata": {
        "id": "ylpyVSkSoxs-"
      },
      "source": [
        "import random \r\n",
        "\r\n",
        "#diseno de un juego de datos para el algoritmo\r\n",
        "\r\n",
        "max_tomas=30\r\n",
        "actores=random.randint(10,20)\r\n",
        "sesiones=random.randint(5,15)\r\n",
        "num_tomas_sesion=random.randint(1,int(30/sesiones))\r\n",
        "tomas=int(num_tomas_sesion*sesiones)\r\n",
        "\r\n",
        "\r\n"
      ],
      "execution_count": 9,
      "outputs": []
    },
    {
      "cell_type": "markdown",
      "metadata": {
        "id": "qyAE6qRSJkZu"
      },
      "source": [
        "**11. Aplicación del algoritmo al juego de datos anterior**"
      ]
    },
    {
      "cell_type": "markdown",
      "metadata": {
        "id": "eBYhnr0YJoAK"
      },
      "source": [
        "**12. Enumeración de las referencias utilizadas para la elaboración del trabajo**\r\n",
        "\r\n",
        "\r\n",
        "\r\n",
        "*   Algoritmo de Branch & Bound (Ramificación y poda): https://www.geeksforgeeks.org/branch-and-bound-algorithm/\r\n",
        "\r\n",
        "*   The Simple and Multiple Job Assignment Problems: https://www.researchgate.net/publication/233245923_The_Simple_and_Multiple_Job_Assignment_Problems\r\n",
        "\r\n",
        "*   Complejidad algorítmica: https://www2.infor.uva.es/~jvalvarez/docencia/tema5.pdf\r\n",
        "\r\n",
        "*   Ramificación y poda: https://dis.um.es/~nmarin/transparencias-ramificacion-y-poda-AED-II.pdf\r\n",
        "\r\n",
        "\r\n"
      ]
    },
    {
      "cell_type": "markdown",
      "metadata": {
        "id": "7oUNCD1mJrgd"
      },
      "source": [
        "**13. ¿Cómo sería posible avanzar en el estudio del problema?**\r\n",
        "\r\n",
        "Estudio del problema con el uso de redes de neuronas artificiales que permitan la resolución de problemas de optimización discreta y combinatoria con restricciones"
      ]
    }
  ]
}