{
  "nbformat": 4,
  "nbformat_minor": 0,
  "metadata": {
    "colab": {
      "name": "Carolina Valencia - AG1.ipynb",
      "provenance": [],
      "toc_visible": true,
      "authorship_tag": "ABX9TyNYBX/DnAdKPkOn6+p5IfGK",
      "include_colab_link": true
    },
    "kernelspec": {
      "name": "python3",
      "display_name": "Python 3"
    }
  },
  "cells": [
    {
      "cell_type": "markdown",
      "metadata": {
        "id": "view-in-github",
        "colab_type": "text"
      },
      "source": [
        "<a href=\"https://colab.research.google.com/github/cvalencia15/Algoritmos-de-Optimizacion/blob/main/Carolina_Valencia_AG1.ipynb\" target=\"_parent\"><img src=\"https://colab.research.google.com/assets/colab-badge.svg\" alt=\"Open In Colab\"/></a>"
      ]
    },
    {
      "cell_type": "markdown",
      "metadata": {
        "id": "U7mTBlfVDuPF"
      },
      "source": [
        "### **ALGORITMOS DE OPTIMIZACION - ACTIVIDAD GUIADA 1 (AG1)**\r\n",
        "\r\n",
        "Carolina Valencia López\r\n",
        "\r\n",
        "URL: https://colab.research.google.com/drive/1DDodwNYlyQvxZK6Piy1nr1R-6TpaY-L5?usp=sharing\r\n",
        "\r\n",
        "GitHub: "
      ]
    },
    {
      "cell_type": "markdown",
      "metadata": {
        "id": "Dq_Oy-ccufJ_"
      },
      "source": [
        "Torres de Hanoi - Problema tipo para presentar Divide y Venceras"
      ]
    },
    {
      "cell_type": "code",
      "metadata": {
        "colab": {
          "base_uri": "https://localhost:8080/"
        },
        "id": "9-jqNXUL2t9o",
        "outputId": "7bd3ff0f-6940-4fbe-c16c-78aaf002bd30"
      },
      "source": [
        "#Funcion de Torres de Hanoi con técnica divide y venceras, utilizando una barra auxiliar (modificacion con respecto a la de clase)\r\n",
        "#Aunque la solucion del profesor tambien me parece optima, me ha parecido interesante el concepto de barra auxiliar\r\n",
        "#Tambien he probado con mas barras auxiliares\r\n",
        "\r\n",
        "def torres_hanoi(n,ini,fin,mov): \r\n",
        "    if (n==1): \r\n",
        "        print(\"Movimiento del disco\",n,\"desde\",ini,\"hasta\",fin)\r\n",
        "        \r\n",
        "    else:\r\n",
        "      torres_hanoi(n-1,ini,mov,fin) \r\n",
        "      print(\"Movimiento del disco\",n,\"desde\",ini,\"hasta\",fin)\r\n",
        "      torres_hanoi(n-1,mov,fin,ini) \r\n",
        "          \r\n",
        "#invocamos a la funcion con un caso de prueba\r\n",
        "torres_hanoi(4,1,3,2)\r\n",
        "\r\n"
      ],
      "execution_count": 1,
      "outputs": [
        {
          "output_type": "stream",
          "text": [
            "Movimiento del disco 1 desde 1 hasta 2\n",
            "Movimiento del disco 2 desde 1 hasta 3\n",
            "Movimiento del disco 1 desde 2 hasta 3\n",
            "Movimiento del disco 3 desde 1 hasta 2\n",
            "Movimiento del disco 1 desde 3 hasta 1\n",
            "Movimiento del disco 2 desde 3 hasta 2\n",
            "Movimiento del disco 1 desde 1 hasta 2\n",
            "Movimiento del disco 4 desde 1 hasta 3\n",
            "Movimiento del disco 1 desde 2 hasta 3\n",
            "Movimiento del disco 2 desde 2 hasta 1\n",
            "Movimiento del disco 1 desde 3 hasta 1\n",
            "Movimiento del disco 3 desde 2 hasta 3\n",
            "Movimiento del disco 1 desde 1 hasta 2\n",
            "Movimiento del disco 2 desde 1 hasta 3\n",
            "Movimiento del disco 1 desde 2 hasta 3\n"
          ],
          "name": "stdout"
        }
      ]
    },
    {
      "cell_type": "markdown",
      "metadata": {
        "id": "tMstNHRR_Bfm"
      },
      "source": [
        "Cambio de moneda - Algoritmo voraz"
      ]
    },
    {
      "cell_type": "code",
      "metadata": {
        "colab": {
          "base_uri": "https://localhost:8080/"
        },
        "id": "a67m_Z89_CUU",
        "outputId": "9ac4a5f6-aa5e-43f3-9116-ad0741f532d6"
      },
      "source": [
        "\r\n",
        "#Función que calcula el cambio mediante técnica greedy aportada en clase\r\n",
        "\r\n",
        "def cambio_monedas(n, sistema_monetario):\r\n",
        "  sol=[0]*len(sistema_monetario)\r\n",
        "\r\n",
        "  for m,val in enumerate(sistema_monetario):\r\n",
        "    sol[m]=n//val\r\n",
        "    if (sol[m]==0):\r\n",
        "      continue\r\n",
        "    n=n%(val*sol[m])\r\n",
        "  \r\n",
        "  return sol  #se retorna la solucion\r\n",
        "\r\n",
        "#creacion del sistema monetario e invocacion a la funcion para prueba\r\n",
        "sistema_monetario=[25,10,5,1]\r\n",
        "cambio_monedas(124,sistema_monetario)\r\n",
        "\r\n",
        "\r\n",
        "\r\n",
        "#Funcion que calcula el cambio mediante tecnica greedy aportada por mí\r\n",
        "#La diferencia de esta funcion con respecto a la anterior se basa en que el array de salida da explicitamente las monedas, y no el numero de cada\r\n",
        "#Pero la solucion es la misma\r\n",
        "\r\n",
        "def cambio_moneda(lista_monetaria,cantidad):\r\n",
        "    cambio=[]\r\n",
        "    bool_aux=True\r\n",
        "    for m in lista_monetaria:\r\n",
        "        while (cantidad):\r\n",
        "            if (m<=cantidad):\r\n",
        "                cambio.append(m)\r\n",
        "                cantidad=cantidad-m\r\n",
        "                bool_aux=True\r\n",
        "            \r\n",
        "            else:\r\n",
        "              bool_aux=False\r\n",
        "              break\r\n",
        "          \r\n",
        "\r\n",
        "    return cambio\r\n",
        "\r\n",
        "#invocacion a la funcion y prueba\r\n",
        "lista_monetaria=[25,10,5,1]\r\n",
        "cambio_moneda(lista_monetaria,124)\r\n",
        "\r\n",
        "\r\n",
        "\r\n",
        "\r\n"
      ],
      "execution_count": 49,
      "outputs": [
        {
          "output_type": "execute_result",
          "data": {
            "text/plain": [
              "[25, 25, 25, 25, 10, 10, 1, 1, 1, 1]"
            ]
          },
          "metadata": {
            "tags": []
          },
          "execution_count": 49
        }
      ]
    },
    {
      "cell_type": "markdown",
      "metadata": {
        "id": "riCClTqJBZa0"
      },
      "source": [
        "Problema de las n-reinas con backtracking"
      ]
    },
    {
      "cell_type": "code",
      "metadata": {
        "colab": {
          "base_uri": "https://localhost:8080/"
        },
        "id": "8LF35L0JBZpK",
        "outputId": "519f856e-5487-4db1-8f75-aabd8965bf61"
      },
      "source": [
        "#Funcion de n-reinas con backtracking\r\n",
        "\r\n",
        "def n_reinas(n, solucion=[], etapa=0):\r\n",
        "  if (len(solucion) == 0):\r\n",
        "    solucion=[0 for i in range(0,n)] #vector solucion\r\n",
        "\r\n",
        "  for i in range(1,n + 1):\r\n",
        "    solucion[etapa] = i\r\n",
        "\r\n",
        "    if(es_prometedora(solucion,etapa)):\r\n",
        "      if (etapa == n - 1):\r\n",
        "        print (solucion)\r\n",
        "        escribe(solucion)\r\n",
        "        print()\r\n",
        "        print()\r\n",
        "      else:\r\n",
        "        n_reinas(n,solucion,etapa+1)\r\n",
        "    #reset\r\n",
        "    solucion[etapa] = 0\r\n",
        "\r\n",
        "\r\n",
        "#Funciones auxiliares   \r\n",
        "\r\n",
        "def escribe(sol):\r\n",
        "  n=len(sol)\r\n",
        "  for x in range(n):\r\n",
        "    print(\"\")\r\n",
        "    for i in range(n):\r\n",
        "      if sol[i] == x+1:\r\n",
        "        print(\" X \" , end=\"\")\r\n",
        "      else:\r\n",
        "        print(\" - \", end=\"\")\r\n",
        "\r\n",
        "\r\n",
        "def es_prometedora(sol,etapa):\r\n",
        "  for i in range(etapa+1):\r\n",
        "    if sol.count(sol[i]) > 1:       \r\n",
        "      return False\r\n",
        "\r\n",
        "    #Se hace un check de las diagonales\r\n",
        "    for j in range(i+1, etapa +1 ):\r\n",
        "      if abs(i-j) == abs(sol[i]-sol[j]) : return False\r\n",
        "  return True\r\n",
        "\r\n",
        "\r\n",
        "#Invocacion a la funcion y prueba\r\n",
        "n_reinas(5)\r\n"
      ],
      "execution_count": 28,
      "outputs": [
        {
          "output_type": "stream",
          "text": [
            "[1, 3, 5, 2, 4]\n",
            "\n",
            " X  -  -  -  - \n",
            " -  -  -  X  - \n",
            " -  X  -  -  - \n",
            " -  -  -  -  X \n",
            " -  -  X  -  - \n",
            "\n",
            "[1, 4, 2, 5, 3]\n",
            "\n",
            " X  -  -  -  - \n",
            " -  -  X  -  - \n",
            " -  -  -  -  X \n",
            " -  X  -  -  - \n",
            " -  -  -  X  - \n",
            "\n",
            "[2, 4, 1, 3, 5]\n",
            "\n",
            " -  -  X  -  - \n",
            " X  -  -  -  - \n",
            " -  -  -  X  - \n",
            " -  X  -  -  - \n",
            " -  -  -  -  X \n",
            "\n",
            "[2, 5, 3, 1, 4]\n",
            "\n",
            " -  -  -  X  - \n",
            " X  -  -  -  - \n",
            " -  -  X  -  - \n",
            " -  -  -  -  X \n",
            " -  X  -  -  - \n",
            "\n",
            "[3, 1, 4, 2, 5]\n",
            "\n",
            " -  X  -  -  - \n",
            " -  -  -  X  - \n",
            " X  -  -  -  - \n",
            " -  -  X  -  - \n",
            " -  -  -  -  X \n",
            "\n",
            "[3, 5, 2, 4, 1]\n",
            "\n",
            " -  -  -  -  X \n",
            " -  -  X  -  - \n",
            " X  -  -  -  - \n",
            " -  -  -  X  - \n",
            " -  X  -  -  - \n",
            "\n",
            "[4, 1, 3, 5, 2]\n",
            "\n",
            " -  X  -  -  - \n",
            " -  -  -  -  X \n",
            " -  -  X  -  - \n",
            " X  -  -  -  - \n",
            " -  -  -  X  - \n",
            "\n",
            "[4, 2, 5, 3, 1]\n",
            "\n",
            " -  -  -  -  X \n",
            " -  X  -  -  - \n",
            " -  -  -  X  - \n",
            " X  -  -  -  - \n",
            " -  -  X  -  - \n",
            "\n",
            "[5, 2, 4, 1, 3]\n",
            "\n",
            " -  -  -  X  - \n",
            " -  X  -  -  - \n",
            " -  -  -  -  X \n",
            " -  -  X  -  - \n",
            " X  -  -  -  - \n",
            "\n",
            "[5, 3, 1, 4, 2]\n",
            "\n",
            " -  -  X  -  - \n",
            " -  -  -  -  X \n",
            " -  X  -  -  - \n",
            " -  -  -  X  - \n",
            " X  -  -  -  - \n",
            "\n"
          ],
          "name": "stdout"
        }
      ]
    },
    {
      "cell_type": "markdown",
      "metadata": {
        "id": "JlSKvEM2EvL2"
      },
      "source": [
        "ACTIVIDAD INDIVIDUAL: Encontrar los dos puntos mas cercanos\r\n",
        "\r\n",
        "\r\n",
        "*   1º: por fuerza bruta\r\n",
        "*   2º: divide y venceras\r\n",
        "(Asimismo, calcular complejidad)\r\n",
        "\r\n",
        "*   Comenzar por 1D, y seguir con 2D y 3D\r\n",
        "\r\n",
        "\r\n",
        "\r\n",
        "\r\n",
        "\r\n"
      ]
    },
    {
      "cell_type": "code",
      "metadata": {
        "colab": {
          "base_uri": "https://localhost:8080/"
        },
        "id": "c22jU5ThEvyH",
        "outputId": "c85cbdd3-17bb-462b-dd9f-5693a3c06d68"
      },
      "source": [
        "import math\r\n",
        "import random\r\n",
        "from scipy.spatial import distance\r\n",
        "\r\n",
        "#FUERZA BRUTA\r\n",
        "#Lista de numeros: calcular par mas cercano con fuerza bruta. La complejidad es de O(n^2)\r\n",
        "\r\n",
        "def fuerza_bruta_puntos_cercanos(arr):\r\n",
        "    dist_euclidea=distance.euclidean(arr[0],arr[1]) #calculamos la dist euclidea existente entre los puntos\r\n",
        "    sol=(arr[0],arr[1])  #preparamos el par de puntos solucion\r\n",
        "    if len(arr)==2:\r\n",
        "        return distance.euclidean(arr[0],arr[1]),arr[0],arr[1]\r\n",
        "\r\n",
        "    for i in range(0,len(arr)):\r\n",
        "        for j in range(i+1,len(arr)):\r\n",
        "            distancia = distance.euclidean(arr[i],arr[j])\r\n",
        "            if distancia<dist_euclidea:\r\n",
        "                dist_euclidea=distancia\r\n",
        "                sol=(arr[i],arr[j])\r\n",
        "\r\n",
        "    return sol,dist_euclidea\r\n",
        "\r\n",
        "\r\n",
        "#creamos las listas (aleat y de creacion propia) e invocamos a la funcion\r\n",
        "arr_1d=[1,2,3,9,4] #array de prueba, aunque utilicemos el aleatorio para la invocacion\r\n",
        "arr_2d=[(1122,0),(135,3030),(7296,1)]\r\n",
        "arr_3d=[(20,50,1),(135,3030,90),(736,1,23)]\r\n",
        "\r\n",
        "lista_1d=[random.randrange(1,1000)for x in range(1000)]\r\n",
        "lista_2d=[(random.randrange(1,1000),random.randrange(1,1000)) for x in range(1000)]\r\n",
        "lista_3d=[(random.randrange(1,1000),random.randrange(1,1000), random.randrange(1,1000)) for x in range(1000)]\r\n",
        "\r\n",
        "fuerza_bruta_puntos_cercanos(lista_1d)  #fuerza bruta con 1 dimension\r\n",
        "fuerza_bruta_puntos_cercanos(lista_2d)  #fuerza bruta con 2 dimensiones\r\n",
        "fuerza_bruta_puntos_cercanos(lista_3d)  #fuerza bruta con 3 dimensiones\r\n",
        "\r\n",
        "\r\n"
      ],
      "execution_count": 84,
      "outputs": [
        {
          "output_type": "execute_result",
          "data": {
            "text/plain": [
              "(((158, 781, 800), (166, 779, 802)), 8.48528137423857)"
            ]
          },
          "metadata": {
            "tags": []
          },
          "execution_count": 84
        }
      ]
    },
    {
      "cell_type": "code",
      "metadata": {
        "id": "VHszYETa1u8F"
      },
      "source": [
        "#DIVIDE Y VENCERAS\r\n",
        "#Lista de numeros: calcular par mas cercano con divide y venceras. La complejidad es de O(n log n).\r\n",
        "#Tiene la misma complejidad asintot. que el branch&bound, por lo que seria dificil decir si se puede mejorar\r\n",
        "\r\n",
        " #aqui escribo el pseudocodigo para calcular al lado la complejidad, bloque por bloque\r\n",
        "\r\n",
        "#def divide_venceras_puntos_cercanos(ax):\r\n",
        "  #separar el array en dos mitades(diferenciando izq y dcha) -> complejidad: O(n log n)\r\n",
        "  \r\n",
        "  #lista_izq=mas_cercano(izq)\r\n",
        "  #lista_dcha=mas_cercano(dcha)\r\n",
        "  #lista_dist=dist_min(lista_izq,lista_dcha)    ->complejidad T(n)\r\n",
        "\r\n",
        "  #eliminar puntos mas alejados de la linea de separacion y ordenarlos por Y   ->Complejidad O(n log n)\r\n",
        "\r\n",
        "  #analizar los puntos y compararlos con los n vecinos\r\n",
        "    #if distancia<lista_dist -> actualizar lista_dist               ->Complejidad O(n)\r\n",
        "\r\n",
        "  #retornar lista_dist\r\n",
        "\r\n",
        "\r\n",
        " \r\n",
        "\r\n",
        "\r\n"
      ],
      "execution_count": 85,
      "outputs": []
    }
  ]
}